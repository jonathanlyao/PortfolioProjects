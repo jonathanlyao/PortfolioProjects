{
 "cells": [
  {
   "cell_type": "markdown",
   "id": "f6ca480d-e81f-4a5b-ba7b-25c4a9bf9b97",
   "metadata": {},
   "source": [
    "Walmart is the biggest retail store in the United States. Just like others, they have been expanding their e-commerce part of the business. By the end of 2022, e-commerce represented a roaring $80 billion in sales, which is 13% of total sales of Walmart. One of the main factors that affects their sales is public holidays, like the Super Bowl, Labour Day, Thanksgiving, and Christmas.\n",
    "\n",
    "In this project, you have been tasked with creating a data pipeline for the analysis of supply and demand around the holidays, along with conducting a preliminary analysis of the data. You will be working with two data sources: grocery sales and complementary data. You have been provided with the grocery_sales table in PostgreSQL database with the following features:\n",
    "\n",
    "grocery_sales\n",
    "\"index\" - unique ID of the row\n",
    "\"Store_ID\" - the store number\n",
    "\"Date\" - the week of sales\n",
    "\"Weekly_Sales\" - sales for the given store\n",
    "Also, you have the extra_data.parquet file that contains complementary data:\n",
    "\n",
    "extra_data.parquet\n",
    "\"IsHoliday\" - Whether the week contains a public holiday - 1 if yes, 0 if no.\n",
    "\"Temperature\" - Temperature on the day of sale\n",
    "\"Fuel_Price\" - Cost of fuel in the region\n",
    "\"CPI\" – Prevailing consumer price index\n",
    "\"Unemployment\" - The prevailing unemployment rate\n",
    "\"MarkDown1\", \"MarkDown2\", \"MarkDown3\", \"MarkDown4\" - number of promotional markdowns\n",
    "\"Dept\" - Department Number in each store\n",
    "\"Size\" - size of the store\n",
    "\"Type\" - type of the store (depends on Size column)\n",
    "You will need to merge those files and perform some data manipulations. The transformed DataFrame can then be stored as the clean_data variable containing the following columns:\n",
    "\n",
    "\"Store_ID\"\n",
    "\"Month\"\n",
    "\"Dept\"\n",
    "\"IsHoliday\"\n",
    "\"Weekly_Sales\"\n",
    "\"CPI\"\n",
    "\"\"Unemployment\"\"\n",
    "After merging and cleaning the data, you will have to analyze monthly sales of Walmart and store the results of your analysis as the agg_data variable that should look like:\n",
    "\n",
    "Month\tWeekly_Sales\n",
    "1.0\t33174.178494\n",
    "2.0\t34333.326579\n",
    "...\t...\n",
    "Finally, you should save the clean_data and agg_data as the csv files.\n",
    "\n",
    "It is recommended to use pandas for this project."
   ]
  },
  {
   "cell_type": "code",
   "execution_count": null,
   "id": "f399e600-97eb-40eb-9c8a-c618fe7ed334",
   "metadata": {
    "jupyter": {
     "source_hidden": true
    }
   },
   "outputs": [],
   "source": [
    "-- Write your SQL query here\n",
    "SELECT * FROM grocery_sales"
   ]
  },
  {
   "cell_type": "code",
   "execution_count": null,
   "id": "7142ef7d-71ae-4218-9721-8c585f415b45",
   "metadata": {},
   "outputs": [],
   "source": [
    "import pandas as pd\n",
    "import os"
   ]
  },
  {
   "cell_type": "code",
   "execution_count": null,
   "id": "325bf21c-9794-4990-9dd1-25a0ed5b2686",
   "metadata": {},
   "outputs": [],
   "source": [
    "# Extract function is already implemented\n",
    "\n",
    "def extract(store_data, extra_data)\n",
    "    extra_df = pd.read_parquet(extra_data)\n",
    "    merged_df = store_data.merge(extra_df, on = \"index\")\n",
    "    return merged_df\n",
    "\n",
    "# Call the extract() function and store it as the \"merged_df\" variable\n",
    "merged_df = extract(grocery_sales, \"extra_data.parquet\")"
   ]
  },
  {
   "cell_type": "code",
   "execution_count": null,
   "id": "2f177a85-3303-4800-89c1-5073787beaa4",
   "metadata": {},
   "outputs": [],
   "source": [
    "# Create the transform() function with one parameter: \"raw_data\"\n",
    "\n",
    "def transform(raw_data):\n",
    "    # Fill NaNs using mean since we are dealing with numeric columns \n",
    "    # Set inplace = True to do the replacing on the current DataFrame\n",
    "    raw_data.fillna(\n",
    "     {\n",
    "        'CPI': raw_data['CPI'].mean(), \n",
    "        'Weekly_Sales': raw_data['Weekly_Sales'].mean(), \n",
    "        'Unemployment': raw_data['Unemployment'].mean(),\n",
    "     }, inplace=True    \n",
    "    )\n",
    "\n",
    "# Define the type of the \"Date\" column and its format\n",
    "   raw_data[\"Date\"] = pd.to_datetime(raw[\"Date\"], format=\"%Y-%m-%d\")\n",
    "\n",
    "# Extract the month value from the \"Date\" column to calculate monthly sales later on\n",
    "   raw_data[\"Month\"] = raw_data[\"Date\"].dt.month\n",
    "\n",
    "# Filter the entire DataFrame using the \"Weekly_Sales\" column. Use .loc to access a group of rows \n",
    "   raw_data = raw_data.loc[raw_data[\"Weekly_Sales\"] > 10000, :] \n",
    "\n",
    "# Drop the unnecessary columns. Set axis=1 to specify thaat the columns should be removed\n",
    "   raw_data = raw_data.drop([\"index\", \"Temperature\", \"Fuel_Price\", \"MarkDown1\", \"MarkDown2\", \"MarkDown3\", \"MarkDown4\", \"MarkDown5\", \"Type\", \"Size\", \"Date\"], axis=1)\n",
    "\n",
    "return raw_data"
   ]
  },
  {
   "cell_type": "code",
   "execution_count": null,
   "id": "9f7f4e5c-980e-4f3f-9b32-9e5a2ea098b9",
   "metadata": {},
   "outputs": [],
   "source": [
    "# Call the transform function and pass the merged DataFrame \n",
    "clean_data = transform(merged_df)"
   ]
  },
  {
   "cell_type": "code",
   "execution_count": null,
   "id": "f415689b-0298-4db5-8462-719af04a1d82",
   "metadata": {},
   "outputs": [],
   "source": [
    "# Create the avg_weekly_sales_per_month function that takes in the cleaned data from the last step\n",
    "def avg_weekly_sales_per_month(clean_data)\n",
    "\n",
    "    # Select the \"Month\" and \"Weekly_Sales\" columns as they are the only ones needed for this analysis \n",
    "    holidays_sales = clean_data[\"Month\", \"Weekly_Sales\"]\n",
    "\n",
    "    # Create a chain operation with groupby(), agg(), reset_index(), and round() functions \n",
    "    # Group by the \"Month\" column and calculate the average monthly sales \n",
    "    # Call reset_index() to start a new index order \n",
    "    # Round the results to two decimal places \n",
    "    holidays_sales = (holidays_sales.groupby(\"Month\").agg(Avg_Sales = (\"Weekly_Sales\", \"mean\")).reset_index().round(2))\n",
    "    return holidays_sales"
   ]
  },
  {
   "cell_type": "code",
   "execution_count": null,
   "id": "03598b20-8195-409b-ad37-72f68706cb7b",
   "metadata": {},
   "outputs": [],
   "source": [
    "# Call the avg_weekly_sales_per_month() function and pass the cleaned DataFrame\n",
    "agg_data = avg_weekly_sales_per_month(clean_data)"
   ]
  },
  {
   "cell_type": "code",
   "execution_count": null,
   "id": "e4a56f26-cbee-4812-a4ca-914fe2673567",
   "metadata": {},
   "outputs": [],
   "source": [
    "# Create the load() function that takes in the cleaned DataFrame and the aggregated one with the paths where they are going to be stored\n",
    "\n",
    "def load(full_data, full_data_file_path, agg_data, agg_data_file_path): \n",
    "    # Save both DataFrame as csv files. Set index = False to drop the index columns \n",
    "\n",
    "    full_data.to_csv(full_data_file_path, index=False)\n",
    "    agg_data.to_csv(agg_data_file_path, index=False)"
   ]
  },
  {
   "cell_type": "code",
   "execution_count": null,
   "id": "bc3d1eb8-dcab-4f89-bcd5-4992c9e3d5a0",
   "metadata": {},
   "outputs": [],
   "source": [
    "# Call the load() function and pass the cleaned and aggregated DataFrames with their paths \n",
    "load(clean_data, \"clean_data.csv\", agg_data, \"agg_data.csv\")"
   ]
  },
  {
   "cell_type": "code",
   "execution_count": null,
   "id": "6729420b-46e6-42d8-a8c0-6bc46cf21e4f",
   "metadata": {},
   "outputs": [],
   "source": [
    "# Create the validation() function with one parameter: file_path - to check whether the previous function was correctly executed\n",
    "def validation(file_path)\n",
    "    # Use the \"os\" package to check whether a path exists \n",
    "    file_exists = os.path.exists(file_path)\n",
    "\n",
    "    # Raise an exception if the path doesn't exist, hence, if there is no file found on a given path \n",
    "    if not file_exists: \n",
    "        raise Exception(f\"There is no file at the path {file_path}\")"
   ]
  },
  {
   "cell_type": "code",
   "execution_count": null,
   "id": "63b6cfaa-4b81-45a0-a52f-23798da0938e",
   "metadata": {},
   "outputs": [],
   "source": [
    "# Call the validation() function and pass first, the cleaned DataFrame path, and then the aggregated DataFrame path\n",
    "\n",
    "validation(\"clean_data.csv\")\n",
    "validation(\"agg_data.csv\")"
   ]
  },
  {
   "cell_type": "code",
   "execution_count": null,
   "id": "6fbfccf9-bd4c-4678-af8c-b7312ff80ade",
   "metadata": {},
   "outputs": [],
   "source": []
  },
  {
   "cell_type": "code",
   "execution_count": null,
   "id": "acb85258-dd74-44f7-85bd-773a62743bce",
   "metadata": {},
   "outputs": [],
   "source": []
  },
  {
   "cell_type": "code",
   "execution_count": null,
   "id": "ee4c1f53-6806-450c-8751-319e033c4d69",
   "metadata": {},
   "outputs": [],
   "source": []
  },
  {
   "cell_type": "code",
   "execution_count": null,
   "id": "f810d8ea-b6cf-4ffa-9894-549582e1381c",
   "metadata": {},
   "outputs": [],
   "source": []
  },
  {
   "cell_type": "code",
   "execution_count": null,
   "id": "4f386f9b-4a6d-4160-9b47-d935d5ec6cb2",
   "metadata": {},
   "outputs": [],
   "source": []
  },
  {
   "cell_type": "code",
   "execution_count": null,
   "id": "67ba263c-c085-44ae-a4dc-f47d7f0e9ff0",
   "metadata": {},
   "outputs": [],
   "source": []
  },
  {
   "cell_type": "code",
   "execution_count": null,
   "id": "7e6c5745-f8d6-413e-a690-5c8a7baeee3a",
   "metadata": {},
   "outputs": [],
   "source": []
  },
  {
   "cell_type": "code",
   "execution_count": null,
   "id": "332280ba-5858-41c3-9583-66d03e01abd6",
   "metadata": {},
   "outputs": [],
   "source": []
  }
 ],
 "metadata": {
  "kernelspec": {
   "display_name": "Python [conda env:base] *",
   "language": "python",
   "name": "conda-base-py"
  },
  "language_info": {
   "codemirror_mode": {
    "name": "ipython",
    "version": 3
   },
   "file_extension": ".py",
   "mimetype": "text/x-python",
   "name": "python",
   "nbconvert_exporter": "python",
   "pygments_lexer": "ipython3",
   "version": "3.10.9"
  }
 },
 "nbformat": 4,
 "nbformat_minor": 5
}
